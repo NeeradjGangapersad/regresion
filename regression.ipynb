{
 "cells": [
  {
   "cell_type": "code",
   "execution_count": 1,
   "metadata": {},
   "outputs": [
    {
     "name": "stderr",
     "output_type": "stream",
     "text": [
      "C:\\Users\\neera\\AppData\\Local\\Temp\\ipykernel_18612\\3757166401.py:9: SettingWithCopyWarning: \n",
      "A value is trying to be set on a copy of a slice from a DataFrame.\n",
      "Try using .loc[row_indexer,col_indexer] = value instead\n",
      "\n",
      "See the caveats in the documentation: https://pandas.pydata.org/pandas-docs/stable/user_guide/indexing.html#returning-a-view-versus-a-copy\n",
      "  df[\"Date\"] = df[\"DM\"].str.strip() + \"01\"\n",
      "C:\\Users\\neera\\AppData\\Local\\Temp\\ipykernel_18612\\3757166401.py:10: SettingWithCopyWarning: \n",
      "A value is trying to be set on a copy of a slice from a DataFrame.\n",
      "Try using .loc[row_indexer,col_indexer] = value instead\n",
      "\n",
      "See the caveats in the documentation: https://pandas.pydata.org/pandas-docs/stable/user_guide/indexing.html#returning-a-view-versus-a-copy\n",
      "  df[\"Date\"] = [datetime.strptime(dt, \"%Y%m%d\") for dt in df[\"Date\"]]\n",
      "C:\\Users\\neera\\AppData\\Local\\Temp\\ipykernel_18612\\3757166401.py:11: SettingWithCopyWarning: \n",
      "A value is trying to be set on a copy of a slice from a DataFrame.\n",
      "Try using .loc[row_indexer,col_indexer] = value instead\n",
      "\n",
      "See the caveats in the documentation: https://pandas.pydata.org/pandas-docs/stable/user_guide/indexing.html#returning-a-view-versus-a-copy\n",
      "  df[\"month_year\"] = df[\"Date\"].dt.to_period(\"M\")\n",
      "C:\\Users\\neera\\AppData\\Local\\Temp\\ipykernel_18612\\3757166401.py:12: SettingWithCopyWarning: \n",
      "A value is trying to be set on a copy of a slice from a DataFrame\n",
      "\n",
      "See the caveats in the documentation: https://pandas.pydata.org/pandas-docs/stable/user_guide/indexing.html#returning-a-view-versus-a-copy\n",
      "  df.drop(columns = [\"DM\",\"Date\"], inplace = True)\n",
      "C:\\Users\\neera\\AppData\\Local\\Temp\\ipykernel_18612\\3757166401.py:15: SettingWithCopyWarning: \n",
      "A value is trying to be set on a copy of a slice from a DataFrame.\n",
      "Try using .loc[row_indexer,col_indexer] = value instead\n",
      "\n",
      "See the caveats in the documentation: https://pandas.pydata.org/pandas-docs/stable/user_guide/indexing.html#returning-a-view-versus-a-copy\n",
      "  df[col] = pd.to_numeric(df[col])\n",
      "C:\\Users\\neera\\AppData\\Local\\Temp\\ipykernel_18612\\3757166401.py:9: SettingWithCopyWarning: \n",
      "A value is trying to be set on a copy of a slice from a DataFrame.\n",
      "Try using .loc[row_indexer,col_indexer] = value instead\n",
      "\n",
      "See the caveats in the documentation: https://pandas.pydata.org/pandas-docs/stable/user_guide/indexing.html#returning-a-view-versus-a-copy\n",
      "  df[\"Date\"] = df[\"DM\"].str.strip() + \"01\"\n",
      "C:\\Users\\neera\\AppData\\Local\\Temp\\ipykernel_18612\\3757166401.py:10: SettingWithCopyWarning: \n",
      "A value is trying to be set on a copy of a slice from a DataFrame.\n",
      "Try using .loc[row_indexer,col_indexer] = value instead\n",
      "\n",
      "See the caveats in the documentation: https://pandas.pydata.org/pandas-docs/stable/user_guide/indexing.html#returning-a-view-versus-a-copy\n",
      "  df[\"Date\"] = [datetime.strptime(dt, \"%Y%m%d\") for dt in df[\"Date\"]]\n",
      "C:\\Users\\neera\\AppData\\Local\\Temp\\ipykernel_18612\\3757166401.py:11: SettingWithCopyWarning: \n",
      "A value is trying to be set on a copy of a slice from a DataFrame.\n",
      "Try using .loc[row_indexer,col_indexer] = value instead\n",
      "\n",
      "See the caveats in the documentation: https://pandas.pydata.org/pandas-docs/stable/user_guide/indexing.html#returning-a-view-versus-a-copy\n",
      "  df[\"month_year\"] = df[\"Date\"].dt.to_period(\"M\")\n",
      "C:\\Users\\neera\\AppData\\Local\\Temp\\ipykernel_18612\\3757166401.py:12: SettingWithCopyWarning: \n",
      "A value is trying to be set on a copy of a slice from a DataFrame\n",
      "\n",
      "See the caveats in the documentation: https://pandas.pydata.org/pandas-docs/stable/user_guide/indexing.html#returning-a-view-versus-a-copy\n",
      "  df.drop(columns = [\"DM\",\"Date\"], inplace = True)\n",
      "C:\\Users\\neera\\AppData\\Local\\Temp\\ipykernel_18612\\3757166401.py:15: SettingWithCopyWarning: \n",
      "A value is trying to be set on a copy of a slice from a DataFrame.\n",
      "Try using .loc[row_indexer,col_indexer] = value instead\n",
      "\n",
      "See the caveats in the documentation: https://pandas.pydata.org/pandas-docs/stable/user_guide/indexing.html#returning-a-view-versus-a-copy\n",
      "  df[col] = pd.to_numeric(df[col])\n"
     ]
    }
   ],
   "source": [
    "import pandas as pd\n",
    "from datetime import date, timedelta, datetime\n",
    "import time\n",
    "import os \n",
    "\n",
    "def fama_french_files_create_date(inp_df): #ASSUMES MONTH YEAR DATE COLUMN IS DM\n",
    "    lastrow =  inp_df.loc[inp_df[\"DM\"] == \" Annual Factors: January-December\"].index[0]\n",
    "    df = inp_df.iloc[:lastrow,:]\n",
    "    df[\"Date\"] = df[\"DM\"].str.strip() + \"01\"\n",
    "    df[\"Date\"] = [datetime.strptime(dt, \"%Y%m%d\") for dt in df[\"Date\"]]\n",
    "    df[\"month_year\"] = df[\"Date\"].dt.to_period(\"M\")\n",
    "    df.drop(columns = [\"DM\",\"Date\"], inplace = True)\n",
    "    for col in df.columns:\n",
    "        if col != \"month_year\": \n",
    "            df[col] = pd.to_numeric(df[col])\n",
    "    return df\n",
    "\n",
    "cwd = os.getcwd()\n",
    "\n",
    "ff_3f_filename = os.path.join(cwd,\"Japan_5_Factors.csv\")\n",
    "ff_3f_raw = pd.read_csv(ff_3f_filename, skiprows = 6)\n",
    "ff_3f_cols = [\"DM\", \"Mkt-RF\", \"SMB\", \"HML\", \"RMW\", \"CMA\", \"RF\"]\n",
    "ff_3f_raw.columns = ff_3f_cols\n",
    "ff_3f_sta = fama_french_files_create_date(inp_df = ff_3f_raw)\n",
    "\n",
    "ff_mom_filename = os.path.join(cwd,\"Japan_MOM_Factor.csv\")\n",
    "ff_mom_raw = pd.read_csv(ff_mom_filename, skiprows = 6)\n",
    "ff_mom_cols = [\"DM\", \"WML\"]\n",
    "ff_mom_raw.columns = ff_mom_cols\n",
    "ff_mom_sta = fama_french_files_create_date(inp_df = ff_mom_raw)\n",
    "\n",
    "ff_fin = pd.merge(ff_3f_sta, ff_mom_sta, how = \"left\", left_on = \"month_year\", right_on = \"month_year\")\n"
   ]
  },
  {
   "attachments": {},
   "cell_type": "markdown",
   "metadata": {},
   "source": [
    "get fama french returns"
   ]
  },
  {
   "cell_type": "code",
   "execution_count": 14,
   "metadata": {},
   "outputs": [],
   "source": [
    "pel_filename = \"pelargos_returns.csv\"\n",
    "pel_raw = pd.read_csv(pel_filename)\n",
    "pel_raw[\"month_year\"] = [datetime.strptime(dt, \"%d/%m/%Y\") for dt in pel_raw[\"date\"]]\n",
    "pel_raw[\"month_year\"] = pel_raw[\"month_year\"].dt.to_period(\"M\")\n",
    "pel_raw.drop(columns = [\"date\"], inplace = True)"
   ]
  },
  {
   "attachments": {},
   "cell_type": "markdown",
   "metadata": {},
   "source": [
    "get pelargos returns"
   ]
  },
  {
   "cell_type": "code",
   "execution_count": 15,
   "metadata": {},
   "outputs": [],
   "source": [
    "reg_df = pel_raw.merge(ff_fin,how=\"left\",left_on=\"month_year\",right_on=\"month_year\")\n",
    "ff_cols = [\"Mkt-RF\", \"SMB\", \"HML\"]\n",
    "ch_cols = [\"Mkt-RF\", \"SMB\", \"HML\", \"WML\"]\n",
    "pel_col = \"pelargos\"\n",
    "\n",
    "regr_ff = nwest(inp_Y = reg_df[pel_col], inp_X = reg_df[ff_cols], inp_modelname = pel_col + \" FamaFrench 3 Factor model\")\n",
    "regr_ch = nwest(inp_Y = reg_df[pel_col], inp_X = reg_df[ch_cols], inp_modelname = pel_col + \" Carhart 4 Factor model\")"
   ]
  }
 ],
 "metadata": {
  "kernelspec": {
   "display_name": "Python 3",
   "language": "python",
   "name": "python3"
  },
  "language_info": {
   "codemirror_mode": {
    "name": "ipython",
    "version": 3
   },
   "file_extension": ".py",
   "mimetype": "text/x-python",
   "name": "python",
   "nbconvert_exporter": "python",
   "pygments_lexer": "ipython3",
   "version": "3.11.3"
  },
  "orig_nbformat": 4
 },
 "nbformat": 4,
 "nbformat_minor": 2
}
